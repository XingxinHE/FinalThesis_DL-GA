{
  "nbformat": 4,
  "nbformat_minor": 0,
  "metadata": {
    "colab": {
      "name": "Stage_3_Coord&AutomateCSV.ipynb",
      "provenance": [],
      "collapsed_sections": [
        "EXeuHH-oTVNC"
      ],
      "authorship_tag": "ABX9TyMCcWvP2QIeM8e6/th0KZZQ",
      "include_colab_link": true
    },
    "kernelspec": {
      "name": "python3",
      "display_name": "Python 3"
    },
    "accelerator": "GPU"
  },
  "cells": [
    {
      "cell_type": "markdown",
      "metadata": {
        "id": "view-in-github",
        "colab_type": "text"
      },
      "source": [
        "<a href=\"https://colab.research.google.com/github/XingxinHE/FinalThesis_DL-GA/blob/master/Stage_3_Coord%26AutomateCSV.ipynb\" target=\"_parent\"><img src=\"https://colab.research.google.com/assets/colab-badge.svg\" alt=\"Open In Colab\"/></a>"
      ]
    },
    {
      "cell_type": "markdown",
      "metadata": {
        "id": "kTxgp4izTN0j",
        "colab_type": "text"
      },
      "source": [
        "### Setup"
      ]
    },
    {
      "cell_type": "code",
      "metadata": {
        "id": "xV9asYKxyxN-",
        "colab_type": "code",
        "colab": {
          "base_uri": "https://localhost:8080/",
          "height": 50
        },
        "outputId": "4a362314-e15e-4276-eb5c-4cd5c8154178"
      },
      "source": [
        "import tensorflow as tf\n",
        "import numpy as np\n",
        "import pandas as pd\n",
        "from tensorflow import keras\n",
        "from tensorflow.keras import layers\n",
        "from tensorflow.keras import Input\n",
        "from tensorflow.keras.models import Model\n",
        "import matplotlib.pyplot as plt\n",
        "import seaborn as sns"
      ],
      "execution_count": 1,
      "outputs": [
        {
          "output_type": "stream",
          "text": [
            "/usr/local/lib/python3.6/dist-packages/statsmodels/tools/_testing.py:19: FutureWarning: pandas.util.testing is deprecated. Use the functions in the public API at pandas.testing instead.\n",
            "  import pandas.util.testing as tm\n"
          ],
          "name": "stderr"
        }
      ]
    },
    {
      "cell_type": "code",
      "metadata": {
        "id": "uisTtYdxS8h-",
        "colab_type": "code",
        "colab": {
          "base_uri": "https://localhost:8080/",
          "height": 34
        },
        "outputId": "e3f555af-7d5f-4c06-f827-afd9c0486315"
      },
      "source": [
        "from google.colab import drive\n",
        "drive.mount('/content/gdrive')\n",
        "import os"
      ],
      "execution_count": 2,
      "outputs": [
        {
          "output_type": "stream",
          "text": [
            "Mounted at /content/gdrive\n"
          ],
          "name": "stdout"
        }
      ]
    },
    {
      "cell_type": "code",
      "metadata": {
        "id": "_3m1cig3TDmy",
        "colab_type": "code",
        "colab": {}
      },
      "source": [
        "os.chdir(\"/content/gdrive/My Drive/Final Thesis/data\")"
      ],
      "execution_count": 3,
      "outputs": []
    },
    {
      "cell_type": "markdown",
      "metadata": {
        "id": "EXeuHH-oTVNC",
        "colab_type": "text"
      },
      "source": [
        "## Process Traing Dataset Coordinate to Floats"
      ]
    },
    {
      "cell_type": "code",
      "metadata": {
        "id": "q7mnKlrOTWH6",
        "colab_type": "code",
        "colab": {}
      },
      "source": [
        "dataframe = pd.read_csv('stage3/605sample_3 points_ coordinates.csv', header=None)"
      ],
      "execution_count": null,
      "outputs": []
    },
    {
      "cell_type": "code",
      "metadata": {
        "id": "Kpc9tntsTlhF",
        "colab_type": "code",
        "colab": {
          "base_uri": "https://localhost:8080/",
          "height": 195
        },
        "outputId": "78b796b3-945d-48e0-a49f-f1d357184ed2"
      },
      "source": [
        "dataframe.head()"
      ],
      "execution_count": null,
      "outputs": [
        {
          "output_type": "execute_result",
          "data": {
            "text/html": [
              "<div>\n",
              "<style scoped>\n",
              "    .dataframe tbody tr th:only-of-type {\n",
              "        vertical-align: middle;\n",
              "    }\n",
              "\n",
              "    .dataframe tbody tr th {\n",
              "        vertical-align: top;\n",
              "    }\n",
              "\n",
              "    .dataframe thead th {\n",
              "        text-align: right;\n",
              "    }\n",
              "</style>\n",
              "<table border=\"1\" class=\"dataframe\">\n",
              "  <thead>\n",
              "    <tr style=\"text-align: right;\">\n",
              "      <th></th>\n",
              "      <th>0</th>\n",
              "    </tr>\n",
              "  </thead>\n",
              "  <tbody>\n",
              "    <tr>\n",
              "      <th>0</th>\n",
              "      <td>{40, 35, 0}</td>\n",
              "    </tr>\n",
              "    <tr>\n",
              "      <th>1</th>\n",
              "      <td>{30, 20, 0}</td>\n",
              "    </tr>\n",
              "    <tr>\n",
              "      <th>2</th>\n",
              "      <td>{0, 35, 0}</td>\n",
              "    </tr>\n",
              "    <tr>\n",
              "      <th>3</th>\n",
              "      <td>{40, 40, 0}</td>\n",
              "    </tr>\n",
              "    <tr>\n",
              "      <th>4</th>\n",
              "      <td>{40, 15, 0}</td>\n",
              "    </tr>\n",
              "  </tbody>\n",
              "</table>\n",
              "</div>"
            ],
            "text/plain": [
              "             0\n",
              "0  {40, 35, 0}\n",
              "1  {30, 20, 0}\n",
              "2   {0, 35, 0}\n",
              "3  {40, 40, 0}\n",
              "4  {40, 15, 0}"
            ]
          },
          "metadata": {
            "tags": []
          },
          "execution_count": 5
        }
      ]
    },
    {
      "cell_type": "code",
      "metadata": {
        "id": "Cm8QUPU1YobK",
        "colab_type": "code",
        "colab": {}
      },
      "source": [
        "dataframe['coord'] = [data[1:-1] for data in dataframe[0]]"
      ],
      "execution_count": null,
      "outputs": []
    },
    {
      "cell_type": "code",
      "metadata": {
        "id": "rTdiMp3cZObo",
        "colab_type": "code",
        "colab": {
          "base_uri": "https://localhost:8080/",
          "height": 195
        },
        "outputId": "d19b46fe-abfe-49ce-a167-47609d5e6def"
      },
      "source": [
        "dataframe.head()"
      ],
      "execution_count": null,
      "outputs": [
        {
          "output_type": "execute_result",
          "data": {
            "text/html": [
              "<div>\n",
              "<style scoped>\n",
              "    .dataframe tbody tr th:only-of-type {\n",
              "        vertical-align: middle;\n",
              "    }\n",
              "\n",
              "    .dataframe tbody tr th {\n",
              "        vertical-align: top;\n",
              "    }\n",
              "\n",
              "    .dataframe thead th {\n",
              "        text-align: right;\n",
              "    }\n",
              "</style>\n",
              "<table border=\"1\" class=\"dataframe\">\n",
              "  <thead>\n",
              "    <tr style=\"text-align: right;\">\n",
              "      <th></th>\n",
              "      <th>0</th>\n",
              "      <th>coord</th>\n",
              "    </tr>\n",
              "  </thead>\n",
              "  <tbody>\n",
              "    <tr>\n",
              "      <th>0</th>\n",
              "      <td>{40, 35, 0}</td>\n",
              "      <td>40, 35, 0</td>\n",
              "    </tr>\n",
              "    <tr>\n",
              "      <th>1</th>\n",
              "      <td>{30, 20, 0}</td>\n",
              "      <td>30, 20, 0</td>\n",
              "    </tr>\n",
              "    <tr>\n",
              "      <th>2</th>\n",
              "      <td>{0, 35, 0}</td>\n",
              "      <td>0, 35, 0</td>\n",
              "    </tr>\n",
              "    <tr>\n",
              "      <th>3</th>\n",
              "      <td>{40, 40, 0}</td>\n",
              "      <td>40, 40, 0</td>\n",
              "    </tr>\n",
              "    <tr>\n",
              "      <th>4</th>\n",
              "      <td>{40, 15, 0}</td>\n",
              "      <td>40, 15, 0</td>\n",
              "    </tr>\n",
              "  </tbody>\n",
              "</table>\n",
              "</div>"
            ],
            "text/plain": [
              "             0      coord\n",
              "0  {40, 35, 0}  40, 35, 0\n",
              "1  {30, 20, 0}  30, 20, 0\n",
              "2   {0, 35, 0}   0, 35, 0\n",
              "3  {40, 40, 0}  40, 40, 0\n",
              "4  {40, 15, 0}  40, 15, 0"
            ]
          },
          "metadata": {
            "tags": []
          },
          "execution_count": 7
        }
      ]
    },
    {
      "cell_type": "code",
      "metadata": {
        "id": "Ch3Wbp1GVYTK",
        "colab_type": "code",
        "colab": {}
      },
      "source": [
        "coord = dataframe['coord'].to_numpy()"
      ],
      "execution_count": null,
      "outputs": []
    },
    {
      "cell_type": "code",
      "metadata": {
        "id": "_nCYaFa8i4Gj",
        "colab_type": "code",
        "colab": {
          "base_uri": "https://localhost:8080/",
          "height": 134
        },
        "outputId": "ca3f4578-00bb-4bc6-8f82-95d75453f6db"
      },
      "source": [
        "def f(x):\n",
        "    return np.array(x.replace('[', '').replace(']', '').replace(',', ' ').split()).astype(float)\n",
        "\n",
        "result = np.array([f(t) for t in coord])\n",
        "result"
      ],
      "execution_count": null,
      "outputs": [
        {
          "output_type": "execute_result",
          "data": {
            "text/plain": [
              "array([[40., 35.,  0.],\n",
              "       [30., 20.,  0.],\n",
              "       [ 0., 35.,  0.],\n",
              "       ...,\n",
              "       [25., 35.,  0.],\n",
              "       [25., 10.,  0.],\n",
              "       [ 0., 30.,  0.]])"
            ]
          },
          "metadata": {
            "tags": []
          },
          "execution_count": 9
        }
      ]
    },
    {
      "cell_type": "code",
      "metadata": {
        "id": "5qFD8-MrZcuo",
        "colab_type": "code",
        "colab": {
          "base_uri": "https://localhost:8080/",
          "height": 34
        },
        "outputId": "d5dbc88c-4d67-4deb-dac0-5da4ab9d371e"
      },
      "source": [
        "result.shape"
      ],
      "execution_count": null,
      "outputs": [
        {
          "output_type": "execute_result",
          "data": {
            "text/plain": [
              "(1815, 3)"
            ]
          },
          "metadata": {
            "tags": []
          },
          "execution_count": 10
        }
      ]
    },
    {
      "cell_type": "code",
      "metadata": {
        "id": "Q-466J66aJLM",
        "colab_type": "code",
        "colab": {}
      },
      "source": [
        "result = result.reshape((605,9))"
      ],
      "execution_count": null,
      "outputs": []
    },
    {
      "cell_type": "code",
      "metadata": {
        "id": "jgBNEkyMacJO",
        "colab_type": "code",
        "colab": {
          "base_uri": "https://localhost:8080/",
          "height": 195
        },
        "outputId": "037f8119-75c8-43ed-e2dc-8723a3defaf1"
      },
      "source": [
        "coord = pd.DataFrame(result)\n",
        "coord.head()"
      ],
      "execution_count": null,
      "outputs": [
        {
          "output_type": "execute_result",
          "data": {
            "text/html": [
              "<div>\n",
              "<style scoped>\n",
              "    .dataframe tbody tr th:only-of-type {\n",
              "        vertical-align: middle;\n",
              "    }\n",
              "\n",
              "    .dataframe tbody tr th {\n",
              "        vertical-align: top;\n",
              "    }\n",
              "\n",
              "    .dataframe thead th {\n",
              "        text-align: right;\n",
              "    }\n",
              "</style>\n",
              "<table border=\"1\" class=\"dataframe\">\n",
              "  <thead>\n",
              "    <tr style=\"text-align: right;\">\n",
              "      <th></th>\n",
              "      <th>0</th>\n",
              "      <th>1</th>\n",
              "      <th>2</th>\n",
              "      <th>3</th>\n",
              "      <th>4</th>\n",
              "      <th>5</th>\n",
              "      <th>6</th>\n",
              "      <th>7</th>\n",
              "      <th>8</th>\n",
              "    </tr>\n",
              "  </thead>\n",
              "  <tbody>\n",
              "    <tr>\n",
              "      <th>0</th>\n",
              "      <td>40.0</td>\n",
              "      <td>35.0</td>\n",
              "      <td>0.0</td>\n",
              "      <td>30.0</td>\n",
              "      <td>20.0</td>\n",
              "      <td>0.0</td>\n",
              "      <td>0.0</td>\n",
              "      <td>35.0</td>\n",
              "      <td>0.0</td>\n",
              "    </tr>\n",
              "    <tr>\n",
              "      <th>1</th>\n",
              "      <td>40.0</td>\n",
              "      <td>40.0</td>\n",
              "      <td>0.0</td>\n",
              "      <td>40.0</td>\n",
              "      <td>15.0</td>\n",
              "      <td>0.0</td>\n",
              "      <td>0.0</td>\n",
              "      <td>35.0</td>\n",
              "      <td>0.0</td>\n",
              "    </tr>\n",
              "    <tr>\n",
              "      <th>2</th>\n",
              "      <td>30.0</td>\n",
              "      <td>30.0</td>\n",
              "      <td>0.0</td>\n",
              "      <td>40.0</td>\n",
              "      <td>20.0</td>\n",
              "      <td>0.0</td>\n",
              "      <td>0.0</td>\n",
              "      <td>20.0</td>\n",
              "      <td>0.0</td>\n",
              "    </tr>\n",
              "    <tr>\n",
              "      <th>3</th>\n",
              "      <td>10.0</td>\n",
              "      <td>40.0</td>\n",
              "      <td>0.0</td>\n",
              "      <td>40.0</td>\n",
              "      <td>20.0</td>\n",
              "      <td>0.0</td>\n",
              "      <td>0.0</td>\n",
              "      <td>25.0</td>\n",
              "      <td>0.0</td>\n",
              "    </tr>\n",
              "    <tr>\n",
              "      <th>4</th>\n",
              "      <td>35.0</td>\n",
              "      <td>40.0</td>\n",
              "      <td>0.0</td>\n",
              "      <td>30.0</td>\n",
              "      <td>10.0</td>\n",
              "      <td>0.0</td>\n",
              "      <td>0.0</td>\n",
              "      <td>30.0</td>\n",
              "      <td>0.0</td>\n",
              "    </tr>\n",
              "  </tbody>\n",
              "</table>\n",
              "</div>"
            ],
            "text/plain": [
              "      0     1    2     3     4    5    6     7    8\n",
              "0  40.0  35.0  0.0  30.0  20.0  0.0  0.0  35.0  0.0\n",
              "1  40.0  40.0  0.0  40.0  15.0  0.0  0.0  35.0  0.0\n",
              "2  30.0  30.0  0.0  40.0  20.0  0.0  0.0  20.0  0.0\n",
              "3  10.0  40.0  0.0  40.0  20.0  0.0  0.0  25.0  0.0\n",
              "4  35.0  40.0  0.0  30.0  10.0  0.0  0.0  30.0  0.0"
            ]
          },
          "metadata": {
            "tags": []
          },
          "execution_count": 12
        }
      ]
    },
    {
      "cell_type": "code",
      "metadata": {
        "id": "KHnnXCy-Ts7s",
        "colab_type": "code",
        "colab": {}
      },
      "source": [
        "coord.to_csv('605_coord.csv')"
      ],
      "execution_count": null,
      "outputs": []
    },
    {
      "cell_type": "markdown",
      "metadata": {
        "colab_type": "text",
        "id": "KlqgUGC7xJ2a"
      },
      "source": [
        "## Process Coordinate to Floats"
      ]
    },
    {
      "cell_type": "code",
      "metadata": {
        "colab_type": "code",
        "id": "y02N4k4cxJ2c",
        "colab": {}
      },
      "source": [
        "dataframe = pd.read_csv('stage3/10sample_3 points_ coordinates.csv', header=None)"
      ],
      "execution_count": 4,
      "outputs": []
    },
    {
      "cell_type": "code",
      "metadata": {
        "colab_type": "code",
        "id": "BSD92X1nxJ2f",
        "colab": {
          "base_uri": "https://localhost:8080/",
          "height": 195
        },
        "outputId": "81b5a612-3cc1-40ae-db57-bf82f517e559"
      },
      "source": [
        "dataframe.head()"
      ],
      "execution_count": 5,
      "outputs": [
        {
          "output_type": "execute_result",
          "data": {
            "text/html": [
              "<div>\n",
              "<style scoped>\n",
              "    .dataframe tbody tr th:only-of-type {\n",
              "        vertical-align: middle;\n",
              "    }\n",
              "\n",
              "    .dataframe tbody tr th {\n",
              "        vertical-align: top;\n",
              "    }\n",
              "\n",
              "    .dataframe thead th {\n",
              "        text-align: right;\n",
              "    }\n",
              "</style>\n",
              "<table border=\"1\" class=\"dataframe\">\n",
              "  <thead>\n",
              "    <tr style=\"text-align: right;\">\n",
              "      <th></th>\n",
              "      <th>0</th>\n",
              "    </tr>\n",
              "  </thead>\n",
              "  <tbody>\n",
              "    <tr>\n",
              "      <th>0</th>\n",
              "      <td>{15, 40, 0}</td>\n",
              "    </tr>\n",
              "    <tr>\n",
              "      <th>1</th>\n",
              "      <td>{25, 15, 0}</td>\n",
              "    </tr>\n",
              "    <tr>\n",
              "      <th>2</th>\n",
              "      <td>{0, 15, 0}</td>\n",
              "    </tr>\n",
              "    <tr>\n",
              "      <th>3</th>\n",
              "      <td>{30, 30, 0}</td>\n",
              "    </tr>\n",
              "    <tr>\n",
              "      <th>4</th>\n",
              "      <td>{40, 10, 0}</td>\n",
              "    </tr>\n",
              "  </tbody>\n",
              "</table>\n",
              "</div>"
            ],
            "text/plain": [
              "             0\n",
              "0  {15, 40, 0}\n",
              "1  {25, 15, 0}\n",
              "2   {0, 15, 0}\n",
              "3  {30, 30, 0}\n",
              "4  {40, 10, 0}"
            ]
          },
          "metadata": {
            "tags": []
          },
          "execution_count": 5
        }
      ]
    },
    {
      "cell_type": "code",
      "metadata": {
        "colab_type": "code",
        "id": "lMPaF1nWxJ2h",
        "colab": {}
      },
      "source": [
        "dataframe['coord'] = [data[1:-1] for data in dataframe[0]]"
      ],
      "execution_count": 6,
      "outputs": []
    },
    {
      "cell_type": "code",
      "metadata": {
        "colab_type": "code",
        "id": "akkzjGmdxJ2j",
        "colab": {
          "base_uri": "https://localhost:8080/",
          "height": 195
        },
        "outputId": "d700a4a9-3068-4b93-f4c9-b4658d6e177c"
      },
      "source": [
        "dataframe.head()"
      ],
      "execution_count": 7,
      "outputs": [
        {
          "output_type": "execute_result",
          "data": {
            "text/html": [
              "<div>\n",
              "<style scoped>\n",
              "    .dataframe tbody tr th:only-of-type {\n",
              "        vertical-align: middle;\n",
              "    }\n",
              "\n",
              "    .dataframe tbody tr th {\n",
              "        vertical-align: top;\n",
              "    }\n",
              "\n",
              "    .dataframe thead th {\n",
              "        text-align: right;\n",
              "    }\n",
              "</style>\n",
              "<table border=\"1\" class=\"dataframe\">\n",
              "  <thead>\n",
              "    <tr style=\"text-align: right;\">\n",
              "      <th></th>\n",
              "      <th>0</th>\n",
              "      <th>coord</th>\n",
              "    </tr>\n",
              "  </thead>\n",
              "  <tbody>\n",
              "    <tr>\n",
              "      <th>0</th>\n",
              "      <td>{15, 40, 0}</td>\n",
              "      <td>15, 40, 0</td>\n",
              "    </tr>\n",
              "    <tr>\n",
              "      <th>1</th>\n",
              "      <td>{25, 15, 0}</td>\n",
              "      <td>25, 15, 0</td>\n",
              "    </tr>\n",
              "    <tr>\n",
              "      <th>2</th>\n",
              "      <td>{0, 15, 0}</td>\n",
              "      <td>0, 15, 0</td>\n",
              "    </tr>\n",
              "    <tr>\n",
              "      <th>3</th>\n",
              "      <td>{30, 30, 0}</td>\n",
              "      <td>30, 30, 0</td>\n",
              "    </tr>\n",
              "    <tr>\n",
              "      <th>4</th>\n",
              "      <td>{40, 10, 0}</td>\n",
              "      <td>40, 10, 0</td>\n",
              "    </tr>\n",
              "  </tbody>\n",
              "</table>\n",
              "</div>"
            ],
            "text/plain": [
              "             0      coord\n",
              "0  {15, 40, 0}  15, 40, 0\n",
              "1  {25, 15, 0}  25, 15, 0\n",
              "2   {0, 15, 0}   0, 15, 0\n",
              "3  {30, 30, 0}  30, 30, 0\n",
              "4  {40, 10, 0}  40, 10, 0"
            ]
          },
          "metadata": {
            "tags": []
          },
          "execution_count": 7
        }
      ]
    },
    {
      "cell_type": "code",
      "metadata": {
        "colab_type": "code",
        "id": "Y9G9o1CKxJ2l",
        "colab": {}
      },
      "source": [
        "coord = dataframe['coord'].to_numpy()"
      ],
      "execution_count": 8,
      "outputs": []
    },
    {
      "cell_type": "code",
      "metadata": {
        "colab_type": "code",
        "id": "bwN-pMeSxJ2n",
        "colab": {
          "base_uri": "https://localhost:8080/",
          "height": 521
        },
        "outputId": "20890a3a-a33e-48f5-ca35-6a72f4ba1e68"
      },
      "source": [
        "def f(x):\n",
        "    return np.array(x.replace('[', '').replace(']', '').replace(',', ' ').split()).astype(float)\n",
        "\n",
        "result = np.array([f(t) for t in coord])\n",
        "result"
      ],
      "execution_count": 9,
      "outputs": [
        {
          "output_type": "execute_result",
          "data": {
            "text/plain": [
              "array([[15., 40.,  0.],\n",
              "       [25., 15.,  0.],\n",
              "       [ 0., 15.,  0.],\n",
              "       [30., 30.,  0.],\n",
              "       [40., 10.,  0.],\n",
              "       [ 0., 25.,  0.],\n",
              "       [10., 40.,  0.],\n",
              "       [40., 20.,  0.],\n",
              "       [ 0., 30.,  0.],\n",
              "       [35., 40.,  0.],\n",
              "       [30., 20.,  0.],\n",
              "       [ 0., 35.,  0.],\n",
              "       [20., 40.,  0.],\n",
              "       [25., 20.,  0.],\n",
              "       [ 0., 20.,  0.],\n",
              "       [30., 40.,  0.],\n",
              "       [15., 10.,  0.],\n",
              "       [ 0., 20.,  0.],\n",
              "       [40., 35.,  0.],\n",
              "       [35., 20.,  0.],\n",
              "       [ 0., 30.,  0.],\n",
              "       [35., 40.,  0.],\n",
              "       [25., 15.,  0.],\n",
              "       [ 0., 20.,  0.],\n",
              "       [25., 35.,  0.],\n",
              "       [30., 15.,  0.],\n",
              "       [ 0., 15.,  0.],\n",
              "       [20., 40.,  0.],\n",
              "       [10., 10.,  0.],\n",
              "       [ 0., 35.,  0.]])"
            ]
          },
          "metadata": {
            "tags": []
          },
          "execution_count": 9
        }
      ]
    },
    {
      "cell_type": "code",
      "metadata": {
        "colab_type": "code",
        "id": "vZo3yWdwxJ2p",
        "colab": {
          "base_uri": "https://localhost:8080/",
          "height": 34
        },
        "outputId": "f32196bf-d706-461d-8e22-d21796452060"
      },
      "source": [
        "result.shape"
      ],
      "execution_count": 10,
      "outputs": [
        {
          "output_type": "execute_result",
          "data": {
            "text/plain": [
              "(30, 3)"
            ]
          },
          "metadata": {
            "tags": []
          },
          "execution_count": 10
        }
      ]
    },
    {
      "cell_type": "code",
      "metadata": {
        "colab_type": "code",
        "id": "Qw7-vUDIxJ2r",
        "colab": {}
      },
      "source": [
        "result = result.reshape((10,9))"
      ],
      "execution_count": 11,
      "outputs": []
    },
    {
      "cell_type": "code",
      "metadata": {
        "colab_type": "code",
        "id": "URbLc2nTxJ2t",
        "colab": {
          "base_uri": "https://localhost:8080/",
          "height": 195
        },
        "outputId": "f9706bec-644d-483b-8f90-2d44e856abc8"
      },
      "source": [
        "coord = pd.DataFrame(result)\n",
        "coord.head()"
      ],
      "execution_count": 12,
      "outputs": [
        {
          "output_type": "execute_result",
          "data": {
            "text/html": [
              "<div>\n",
              "<style scoped>\n",
              "    .dataframe tbody tr th:only-of-type {\n",
              "        vertical-align: middle;\n",
              "    }\n",
              "\n",
              "    .dataframe tbody tr th {\n",
              "        vertical-align: top;\n",
              "    }\n",
              "\n",
              "    .dataframe thead th {\n",
              "        text-align: right;\n",
              "    }\n",
              "</style>\n",
              "<table border=\"1\" class=\"dataframe\">\n",
              "  <thead>\n",
              "    <tr style=\"text-align: right;\">\n",
              "      <th></th>\n",
              "      <th>0</th>\n",
              "      <th>1</th>\n",
              "      <th>2</th>\n",
              "      <th>3</th>\n",
              "      <th>4</th>\n",
              "      <th>5</th>\n",
              "      <th>6</th>\n",
              "      <th>7</th>\n",
              "      <th>8</th>\n",
              "    </tr>\n",
              "  </thead>\n",
              "  <tbody>\n",
              "    <tr>\n",
              "      <th>0</th>\n",
              "      <td>15.0</td>\n",
              "      <td>40.0</td>\n",
              "      <td>0.0</td>\n",
              "      <td>25.0</td>\n",
              "      <td>15.0</td>\n",
              "      <td>0.0</td>\n",
              "      <td>0.0</td>\n",
              "      <td>15.0</td>\n",
              "      <td>0.0</td>\n",
              "    </tr>\n",
              "    <tr>\n",
              "      <th>1</th>\n",
              "      <td>30.0</td>\n",
              "      <td>30.0</td>\n",
              "      <td>0.0</td>\n",
              "      <td>40.0</td>\n",
              "      <td>10.0</td>\n",
              "      <td>0.0</td>\n",
              "      <td>0.0</td>\n",
              "      <td>25.0</td>\n",
              "      <td>0.0</td>\n",
              "    </tr>\n",
              "    <tr>\n",
              "      <th>2</th>\n",
              "      <td>10.0</td>\n",
              "      <td>40.0</td>\n",
              "      <td>0.0</td>\n",
              "      <td>40.0</td>\n",
              "      <td>20.0</td>\n",
              "      <td>0.0</td>\n",
              "      <td>0.0</td>\n",
              "      <td>30.0</td>\n",
              "      <td>0.0</td>\n",
              "    </tr>\n",
              "    <tr>\n",
              "      <th>3</th>\n",
              "      <td>35.0</td>\n",
              "      <td>40.0</td>\n",
              "      <td>0.0</td>\n",
              "      <td>30.0</td>\n",
              "      <td>20.0</td>\n",
              "      <td>0.0</td>\n",
              "      <td>0.0</td>\n",
              "      <td>35.0</td>\n",
              "      <td>0.0</td>\n",
              "    </tr>\n",
              "    <tr>\n",
              "      <th>4</th>\n",
              "      <td>20.0</td>\n",
              "      <td>40.0</td>\n",
              "      <td>0.0</td>\n",
              "      <td>25.0</td>\n",
              "      <td>20.0</td>\n",
              "      <td>0.0</td>\n",
              "      <td>0.0</td>\n",
              "      <td>20.0</td>\n",
              "      <td>0.0</td>\n",
              "    </tr>\n",
              "  </tbody>\n",
              "</table>\n",
              "</div>"
            ],
            "text/plain": [
              "      0     1    2     3     4    5    6     7    8\n",
              "0  15.0  40.0  0.0  25.0  15.0  0.0  0.0  15.0  0.0\n",
              "1  30.0  30.0  0.0  40.0  10.0  0.0  0.0  25.0  0.0\n",
              "2  10.0  40.0  0.0  40.0  20.0  0.0  0.0  30.0  0.0\n",
              "3  35.0  40.0  0.0  30.0  20.0  0.0  0.0  35.0  0.0\n",
              "4  20.0  40.0  0.0  25.0  20.0  0.0  0.0  20.0  0.0"
            ]
          },
          "metadata": {
            "tags": []
          },
          "execution_count": 12
        }
      ]
    },
    {
      "cell_type": "code",
      "metadata": {
        "colab_type": "code",
        "id": "kDkIzmAnxJ2w",
        "colab": {}
      },
      "source": [
        "coord.to_csv('10_coord.csv')"
      ],
      "execution_count": 13,
      "outputs": []
    },
    {
      "cell_type": "markdown",
      "metadata": {
        "id": "ibZE8O06huyU",
        "colab_type": "text"
      },
      "source": [
        "## Automate 605 .csv demo"
      ]
    },
    {
      "cell_type": "code",
      "metadata": {
        "id": "LDKQks7MG_35",
        "colab_type": "code",
        "colab": {
          "base_uri": "https://localhost:8080/",
          "height": 106
        },
        "outputId": "260ae9ca-3ec9-46cf-fbc4-b812865de085"
      },
      "source": [
        "#create an empty DataFrame for later appending\n",
        "optimal_605 = pd.DataFrame(np.zeros((2,2)), columns=['bar_orders','weight'])\n",
        "optimal_605"
      ],
      "execution_count": null,
      "outputs": [
        {
          "output_type": "execute_result",
          "data": {
            "text/html": [
              "<div>\n",
              "<style scoped>\n",
              "    .dataframe tbody tr th:only-of-type {\n",
              "        vertical-align: middle;\n",
              "    }\n",
              "\n",
              "    .dataframe tbody tr th {\n",
              "        vertical-align: top;\n",
              "    }\n",
              "\n",
              "    .dataframe thead th {\n",
              "        text-align: right;\n",
              "    }\n",
              "</style>\n",
              "<table border=\"1\" class=\"dataframe\">\n",
              "  <thead>\n",
              "    <tr style=\"text-align: right;\">\n",
              "      <th></th>\n",
              "      <th>bar_orders</th>\n",
              "      <th>weight</th>\n",
              "    </tr>\n",
              "  </thead>\n",
              "  <tbody>\n",
              "    <tr>\n",
              "      <th>0</th>\n",
              "      <td>0.0</td>\n",
              "      <td>0.0</td>\n",
              "    </tr>\n",
              "    <tr>\n",
              "      <th>1</th>\n",
              "      <td>0.0</td>\n",
              "      <td>0.0</td>\n",
              "    </tr>\n",
              "  </tbody>\n",
              "</table>\n",
              "</div>"
            ],
            "text/plain": [
              "   bar_orders  weight\n",
              "0         0.0     0.0\n",
              "1         0.0     0.0"
            ]
          },
          "metadata": {
            "tags": []
          },
          "execution_count": 7
        }
      ]
    },
    {
      "cell_type": "code",
      "metadata": {
        "id": "9snKPMBODZkK",
        "colab_type": "code",
        "colab": {}
      },
      "source": [
        "#Initialize all the csv files path\n",
        "main_path = 'stage3/605'\n",
        "csv_paths = ['stage3_ ({})/results.tsv'.format(i) for i in range(1,606)]"
      ],
      "execution_count": null,
      "outputs": []
    },
    {
      "cell_type": "code",
      "metadata": {
        "id": "WqrwiajOFgle",
        "colab_type": "code",
        "colab": {
          "base_uri": "https://localhost:8080/",
          "height": 402
        },
        "outputId": "85524538-bbd3-4112-fc24-0d40dafb5d4d"
      },
      "source": [
        "for csv in csv_paths:\n",
        "  src = os.path.join(main_path, csv) #each csv file path\n",
        "  result = pd.read_csv(src, sep='\\t') #read csv\n",
        "  result = result.iloc[:,-2:] #take only last 2 columns\n",
        "  cols = ['bar_orders','weight'] #rename the columns\n",
        "  result.columns = cols #rename the columns\n",
        "  result.sort_values(by='weight', ascending=True, inplace=True) #find the optimal solution on weight\n",
        "  result['bar_orders'] = [bar[1:-1] for bar in result['bar_orders']] #take out the text\n",
        "  optimal_605 = optimal_605.append(result.iloc[0,:]) #append to the dataframe\n",
        "optimal_605.drop([0, 1], inplace=True)\n",
        "optimal_605.reset_index(inplace=True, drop=True)\n",
        "optimal_605"
      ],
      "execution_count": null,
      "outputs": [
        {
          "output_type": "execute_result",
          "data": {
            "text/html": [
              "<div>\n",
              "<style scoped>\n",
              "    .dataframe tbody tr th:only-of-type {\n",
              "        vertical-align: middle;\n",
              "    }\n",
              "\n",
              "    .dataframe tbody tr th {\n",
              "        vertical-align: top;\n",
              "    }\n",
              "\n",
              "    .dataframe thead th {\n",
              "        text-align: right;\n",
              "    }\n",
              "</style>\n",
              "<table border=\"1\" class=\"dataframe\">\n",
              "  <thead>\n",
              "    <tr style=\"text-align: right;\">\n",
              "      <th></th>\n",
              "      <th>bar_orders</th>\n",
              "      <th>weight</th>\n",
              "    </tr>\n",
              "  </thead>\n",
              "  <tbody>\n",
              "    <tr>\n",
              "      <th>0</th>\n",
              "      <td>2.83810870599491, 0.6358100457084843, 1.591918...</td>\n",
              "      <td>103.451705</td>\n",
              "    </tr>\n",
              "    <tr>\n",
              "      <th>1</th>\n",
              "      <td>0.8345770523120521, 0.9756589343833298, 2.6056...</td>\n",
              "      <td>111.959005</td>\n",
              "    </tr>\n",
              "    <tr>\n",
              "      <th>2</th>\n",
              "      <td>2.957788117293222, 2.724991772207066, 1.764825...</td>\n",
              "      <td>119.747432</td>\n",
              "    </tr>\n",
              "    <tr>\n",
              "      <th>3</th>\n",
              "      <td>3.438750738336929, 0.0004908677138951938, 1.38...</td>\n",
              "      <td>101.092659</td>\n",
              "    </tr>\n",
              "    <tr>\n",
              "      <th>4</th>\n",
              "      <td>0.2559104201266245, 1.5397079930733486, 1.6019...</td>\n",
              "      <td>111.386501</td>\n",
              "    </tr>\n",
              "    <tr>\n",
              "      <th>...</th>\n",
              "      <td>...</td>\n",
              "      <td>...</td>\n",
              "    </tr>\n",
              "    <tr>\n",
              "      <th>600</th>\n",
              "      <td>1.503335667586489, 0.986849577595335, 0.525005...</td>\n",
              "      <td>112.765163</td>\n",
              "    </tr>\n",
              "    <tr>\n",
              "      <th>601</th>\n",
              "      <td>0.01772228251242236, 1.5432344551130908, 1.911...</td>\n",
              "      <td>112.161484</td>\n",
              "    </tr>\n",
              "    <tr>\n",
              "      <th>602</th>\n",
              "      <td>0.850379063780427, 1.8745358324229073, 3.22292...</td>\n",
              "      <td>106.448331</td>\n",
              "    </tr>\n",
              "    <tr>\n",
              "      <th>603</th>\n",
              "      <td>1.7800782810853257, 1.9953681364308633, 2.4115...</td>\n",
              "      <td>99.890987</td>\n",
              "    </tr>\n",
              "    <tr>\n",
              "      <th>604</th>\n",
              "      <td>2.030130691019586, 3.6297709594655876, 2.70426...</td>\n",
              "      <td>104.876752</td>\n",
              "    </tr>\n",
              "  </tbody>\n",
              "</table>\n",
              "<p>605 rows × 2 columns</p>\n",
              "</div>"
            ],
            "text/plain": [
              "                                            bar_orders      weight\n",
              "0    2.83810870599491, 0.6358100457084843, 1.591918...  103.451705\n",
              "1    0.8345770523120521, 0.9756589343833298, 2.6056...  111.959005\n",
              "2    2.957788117293222, 2.724991772207066, 1.764825...  119.747432\n",
              "3    3.438750738336929, 0.0004908677138951938, 1.38...  101.092659\n",
              "4    0.2559104201266245, 1.5397079930733486, 1.6019...  111.386501\n",
              "..                                                 ...         ...\n",
              "600  1.503335667586489, 0.986849577595335, 0.525005...  112.765163\n",
              "601  0.01772228251242236, 1.5432344551130908, 1.911...  112.161484\n",
              "602  0.850379063780427, 1.8745358324229073, 3.22292...  106.448331\n",
              "603  1.7800782810853257, 1.9953681364308633, 2.4115...   99.890987\n",
              "604  2.030130691019586, 3.6297709594655876, 2.70426...  104.876752\n",
              "\n",
              "[605 rows x 2 columns]"
            ]
          },
          "metadata": {
            "tags": []
          },
          "execution_count": 14
        }
      ]
    },
    {
      "cell_type": "markdown",
      "metadata": {
        "id": "bOpo7JdlNxrN",
        "colab_type": "text"
      },
      "source": [
        "## Export to CSV"
      ]
    },
    {
      "cell_type": "code",
      "metadata": {
        "id": "5nYR25WVNwWq",
        "colab_type": "code",
        "colab": {}
      },
      "source": [
        "optimal_605.to_csv(\"/content/gdrive/My Drive/Final Thesis/data/optimal_605.csv\")"
      ],
      "execution_count": null,
      "outputs": []
    }
  ]
}